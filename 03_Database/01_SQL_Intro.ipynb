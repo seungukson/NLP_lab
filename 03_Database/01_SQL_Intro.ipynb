{
 "cells": [
  {
   "cell_type": "markdown",
   "metadata": {},
   "source": [
    "# mysql 시작하기"
   ]
  },
  {
   "cell_type": "markdown",
   "metadata": {},
   "source": [
    "mysql 서버 접속"
   ]
  },
  {
   "cell_type": "raw",
   "metadata": {},
   "source": [
    "mysql -u(username) -p(password)"
   ]
  },
  {
   "cell_type": "raw",
   "metadata": {},
   "source": [
    "db목록 확인"
   ]
  },
  {
   "cell_type": "raw",
   "metadata": {},
   "source": [
    "show databases;"
   ]
  },
  {
   "cell_type": "markdown",
   "metadata": {},
   "source": [
    "현재 사용중인 db확인.   \n",
    "select database();"
   ]
  },
  {
   "cell_type": "markdown",
   "metadata": {},
   "source": [
    "사용할 db선택  \n",
    "use (db이름)"
   ]
  },
  {
   "cell_type": "markdown",
   "metadata": {},
   "source": [
    "#### 데이터 검색"
   ]
  },
  {
   "cell_type": "markdown",
   "metadata": {},
   "source": [
    "열을 지정하고 싶다면?"
   ]
  },
  {
   "cell_type": "raw",
   "metadata": {},
   "source": [
    "select (열 이름) from (table이름)"
   ]
  },
  {
   "cell_type": "markdown",
   "metadata": {},
   "source": [
    "행을 지정하고 싶다면?"
   ]
  },
  {
   "cell_type": "raw",
   "metadata": {},
   "source": [
    "select * from (table) where (조건색)"
   ]
  },
  {
   "cell_type": "markdown",
   "metadata": {},
   "source": [
    "조건식  \n",
    "  \n",
    " - 같다 : =\n",
    " - 같지 않다 : <>\n",
    " - 비교연산자 : <,>,<=,>=\n",
    " - 논리연산자 : and>or, not'\n",
    " "
   ]
  },
  {
   "cell_type": "markdown",
   "metadata": {},
   "source": [
    "or를 and보다 먼저 계산하고 싶다면?"
   ]
  },
  {
   "cell_type": "raw",
   "metadata": {},
   "source": [
    "(a=1 or a=2) and (b=1 or b=2)"
   ]
  },
  {
   "cell_type": "markdown",
   "metadata": {},
   "source": [
    "조건식에 문자열을 이용하여 조건을 지정하고 싶을 때\n",
    "- like(패턴)\n",
    "- 패턴 -> % : 여러문자 , 임의의 여러문자,_: 임의의 문자하나"
   ]
  },
  {
   "cell_type": "markdown",
   "metadata": {},
   "source": [
    "SQL하고 머신러닝하자 ->'SQL%'  \n",
    "크롤링 끝나고 SQL하는 중 ->'%SQL%'  \n",
    "문자열에 %가 들어가 있다면 -> '%\\%%'  \n",
    "It's apple -> 'It''s apple' # '를 표현하고싶다면 ->''(두개)"
   ]
  },
  {
   "cell_type": "markdown",
   "metadata": {},
   "source": [
    "보다 복잡한 문자열을 표현하고 싶다면?"
   ]
  },
  {
   "cell_type": "markdown",
   "metadata": {},
   "source": [
    "정규표현식 ! ->정규표현식 지원함"
   ]
  },
  {
   "cell_type": "markdown",
   "metadata": {},
   "source": [
    "#### 정렬"
   ]
  },
  {
   "cell_type": "markdown",
   "metadata": {},
   "source": [
    "order by (정렬 기준)"
   ]
  },
  {
   "cell_type": "markdown",
   "metadata": {},
   "source": [
    "default : 오름차순\n",
    "내림차순 하고 싶다면? order by desc"
   ]
  },
  {
   "cell_type": "markdown",
   "metadata": {},
   "source": [
    "문자열은 사전식으로 생각하면 됨."
   ]
  },
  {
   "cell_type": "markdown",
   "metadata": {},
   "source": [
    "만약에 1,2,3이라고 되어있는데, type이 char라면?  \n",
    "사전식으로 정렬된다. ex)type이 캐릭터인데 12314 >23423 가 될수도있다."
   ]
  },
  {
   "cell_type": "markdown",
   "metadata": {},
   "source": [
    "복수의 열을 기준으로 정렬하고 싶다면?"
   ]
  },
  {
   "cell_type": "markdown",
   "metadata": {},
   "source": [
    "order by (기준열1),(기준열2) : # 순서 중요 구분은 \",\"\n",
    "- 각각 오름,내림차순 정렬가능\n",
    "- NULL은 가장 작은 값으로 취급된다."
   ]
  },
  {
   "cell_type": "markdown",
   "metadata": {},
   "source": [
    "#### 결과 행 제한"
   ]
  },
  {
   "cell_type": "markdown",
   "metadata": {},
   "source": [
    "LIMIT(행수) OFFSET(시작행) # 시작행 +1부터 시작"
   ]
  },
  {
   "cell_type": "markdown",
   "metadata": {},
   "source": [
    "#### 수치 연산"
   ]
  },
  {
   "cell_type": "markdown",
   "metadata": {},
   "source": [
    "* / % 가 우선순위"
   ]
  },
  {
   "cell_type": "markdown",
   "metadata": {},
   "source": [
    "복수의 열을 수치 연산한 결과를 이용하고 싶다면?"
   ]
  },
  {
   "cell_type": "markdown",
   "metadata": {},
   "source": [
    "열1 * 열2\n",
    "ex) price + quantity (as) (이름)"
   ]
  },
  {
   "cell_type": "markdown",
   "metadata": {},
   "source": [
    "NULL값에 사칙연산한 결과는? NULL"
   ]
  },
  {
   "cell_type": "markdown",
   "metadata": {},
   "source": [
    "복잡한 연산이 필요할 땐?\n",
    "내장함수 이용\n",
    "ex) \n",
    "- 반올림 = round(대상, 기준)\n",
    "- 루트 = sqrt(대상)"
   ]
  },
  {
   "cell_type": "markdown",
   "metadata": {},
   "source": [
    "#### 문자열 연산 "
   ]
  },
  {
   "cell_type": "markdown",
   "metadata": {},
   "source": [
    "문자를 서로 더하고 싶다면  \n",
    "concat(문자1, 문자2)  \n",
    "문자의 일부분만 계산해서 반환하고싶다면  \n",
    "substring(대상,기준점,갯수)  \n",
    "ex) 20190614 중에 06만 반환하고싶다면\n",
    "- substring(20190614, 5, 2) # 5번째에서 두개!!"
   ]
  },
  {
   "cell_type": "markdown",
   "metadata": {},
   "source": [
    "sql에서 strip은 뭘까? # 여분의 스페이스 제거"
   ]
  },
  {
   "cell_type": "markdown",
   "metadata": {},
   "source": [
    "TRIM\n",
    "ex) trim('abc                      ') = 'abc'"
   ]
  },
  {
   "cell_type": "markdown",
   "metadata": {},
   "source": [
    "#### sql에서 len은 뭘까? # 길이반환"
   ]
  },
  {
   "cell_type": "markdown",
   "metadata": {},
   "source": [
    "character_length() = 길이 반환"
   ]
  },
  {
   "cell_type": "markdown",
   "metadata": {},
   "source": [
    "#### 날짜 연산"
   ]
  },
  {
   "cell_type": "markdown",
   "metadata": {},
   "source": [
    "현재 시간 측정하고 싶다면?"
   ]
  },
  {
   "cell_type": "raw",
   "metadata": {},
   "source": [
    "select current_timestamp # pc의 시간 기준.."
   ]
  },
  {
   "cell_type": "markdown",
   "metadata": {},
   "source": [
    "날짜에 계산을 하고싶다면?"
   ]
  },
  {
   "cell_type": "raw",
   "metadata": {},
   "source": [
    "select current_timestamp+interval 1 day;"
   ]
  },
  {
   "cell_type": "markdown",
   "metadata": {},
   "source": [
    "날짜끼리 뺴고 싶을 땐"
   ]
  },
  {
   "cell_type": "raw",
   "metadata": {},
   "source": [
    "datediff(날짜1, 날짜2)"
   ]
  },
  {
   "cell_type": "code",
   "execution_count": null,
   "metadata": {},
   "outputs": [],
   "source": []
  }
 ],
 "metadata": {
  "kernelspec": {
   "display_name": "Python 3",
   "language": "python",
   "name": "python3"
  },
  "language_info": {
   "codemirror_mode": {
    "name": "ipython",
    "version": 3
   },
   "file_extension": ".py",
   "mimetype": "text/x-python",
   "name": "python",
   "nbconvert_exporter": "python",
   "pygments_lexer": "ipython3",
   "version": "3.7.3"
  }
 },
 "nbformat": 4,
 "nbformat_minor": 2
}
