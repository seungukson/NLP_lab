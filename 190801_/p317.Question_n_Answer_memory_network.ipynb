{
 "cells": [
  {
   "cell_type": "code",
   "execution_count": 1,
   "metadata": {},
   "outputs": [],
   "source": [
    "import collections\n",
    "import itertools\n",
    "import nltk\n",
    "import numpy as np\n",
    "import matplotlib.pyplot as plt\n",
    "import os\n",
    "import random"
   ]
  },
  {
   "cell_type": "markdown",
   "metadata": {},
   "source": [
    "#### ...train.txt 내용\n",
    "1 Mary moved to the bathroom.<br>\n",
    "2 John went to the hallway.<br>\n",
    "3 Where is Mary? (tab)bathroom(tab)1"
   ]
  },
  {
   "cell_type": "code",
   "execution_count": 7,
   "metadata": {},
   "outputs": [
    {
     "name": "stdout",
     "output_type": "stream",
     "text": [
      "Train observations: 10000 Test observations: 1000\n"
     ]
    }
   ],
   "source": [
    "def get_data(infile):\n",
    "    stories, questions, answers = [], [], []\n",
    "    story_text = []\n",
    "    fin = open(infile, \"r\") \n",
    "    for line in fin:\n",
    "        line = line.strip()                # strip() : 양쪽 끝에 있는 공백, \\t, \\n 제거\n",
    "        lno, text = line.split(\" \", 1)     # 맨 앞의 라인 번호 분리\n",
    "        if \"\\t\" in text:                   # 세 번째 문장에는 \\t가 두개 있음.\n",
    "            question, answer, _ = text.split(\"\\t\")\n",
    "            stories.append(story_text)     # 처음 두 문장\n",
    "            questions.append(question)     # 세 번째 문장의 질문\n",
    "            answers.append(answer)         # 세 번째 문장의 답변\n",
    "            story_text = []\n",
    "        else:\n",
    "            story_text.append(text)        # 처음 두 문장이 들어감\n",
    "    fin.close()\n",
    "    return stories, questions, answers\n",
    "\n",
    "# get the data\n",
    "data_train = get_data(\"qa1_single-supporting-fact_train.txt\")\n",
    "data_test = get_data(\"qa1_single-supporting-fact_test.txt\")\n",
    "\n",
    "print(\"Train observations:\",len(data_train[0]),\"Test observations:\", len(data_test[0]))"
   ]
  },
  {
   "cell_type": "markdown",
   "metadata": {},
   "source": [
    "첫 번째 에피소딕 스토리, 질문(Q), 답변(A) 확인"
   ]
  },
  {
   "cell_type": "code",
   "execution_count": 11,
   "metadata": {},
   "outputs": [
    {
     "name": "stdout",
     "output_type": "stream",
     "text": [
      "스토리 =  ['Mary moved to the bathroom.', 'John went to the hallway.']\n",
      "질  문 =  Where is Mary? \n",
      "답  변 =  bathroom\n"
     ]
    }
   ],
   "source": [
    "print(\"스토리 = \", data_train[0][0])\n",
    "print(\"질  문 = \", data_train[1][0])\n",
    "print(\"답  변 = \", data_train[2][0])"
   ]
  },
  {
   "cell_type": "markdown",
   "metadata": {},
   "source": [
    "#### Building Vocab dictionary from Train & Test data"
   ]
  },
  {
   "cell_type": "code",
   "execution_count": 13,
   "metadata": {
    "scrolled": true
   },
   "outputs": [
    {
     "name": "stdout",
     "output_type": "stream",
     "text": [
      "vocabulary size: 22\n",
      "{'to': 1, 'the': 2, '.': 3, 'where': 4, 'is': 5, '?': 6, 'went': 7, 'john': 8, 'sandra': 9, 'mary': 10, 'daniel': 11, 'bathroom': 12, 'office': 13, 'garden': 14, 'hallway': 15, 'kitchen': 16, 'bedroom': 17, 'journeyed': 18, 'travelled': 19, 'back': 20, 'moved': 21, 'PAD': 0}\n"
     ]
    }
   ],
   "source": [
    "dictnry = collections.Counter()\n",
    "for stories, questions, answers in [data_train, data_test]:\n",
    "    for story in stories:\n",
    "        for sent in story:\n",
    "            for word in nltk.word_tokenize(sent):\n",
    "                dictnry[word.lower()] += 1\n",
    "                \n",
    "    for question in questions:\n",
    "        for word in nltk.word_tokenize(question):\n",
    "            dictnry[word.lower()] += 1\n",
    "            \n",
    "    for answer in answers:\n",
    "        for word in nltk.word_tokenize(answer):\n",
    "            dictnry[word.lower()] += 1\n",
    "\n",
    "word2indx = {w:(i+1) for i,(w,_) in enumerate(dictnry.most_common())}\n",
    "\n",
    "word2indx[\"PAD\"] = 0\n",
    "indx2word = {v:k for k,v in word2indx.items()}\n",
    "\n",
    "vocab_size = len(word2indx)\n",
    "print(\"vocabulary size:\",len(word2indx))\n",
    "print(word2indx)"
   ]
  },
  {
   "cell_type": "markdown",
   "metadata": {},
   "source": [
    "#### compute max sequence length for each entity"
   ]
  },
  {
   "cell_type": "code",
   "execution_count": 14,
   "metadata": {},
   "outputs": [
    {
     "name": "stdout",
     "output_type": "stream",
     "text": [
      "Story maximum length: 14 Question maximum length: 4\n"
     ]
    }
   ],
   "source": [
    "story_maxlen = 0\n",
    "question_maxlen = 0\n",
    "\n",
    "for stories, questions, answers in [data_train, data_test]:\n",
    "    for story in stories:\n",
    "        story_len = 0\n",
    "        for sent in story:\n",
    "            swords = nltk.word_tokenize(sent)\n",
    "            story_len += len(swords)\n",
    "        if story_len > story_maxlen:\n",
    "            story_maxlen = story_len\n",
    "            \n",
    "    for question in questions:\n",
    "        question_len = len(nltk.word_tokenize(question))\n",
    "        if question_len > question_maxlen:\n",
    "            question_maxlen = question_len\n",
    "            \n",
    "print (\"Story maximum length:\",story_maxlen,\"Question maximum length:\",question_maxlen)"
   ]
  },
  {
   "cell_type": "code",
   "execution_count": 16,
   "metadata": {},
   "outputs": [
    {
     "name": "stderr",
     "output_type": "stream",
     "text": [
      "Using TensorFlow backend.\n"
     ]
    }
   ],
   "source": [
    "from keras.layers import Input\n",
    "from keras.layers.core import Activation, Dense, Dropout, Permute\n",
    "from keras.layers.embeddings import Embedding\n",
    "from keras.layers.merge import add, concatenate, dot\n",
    "from keras.layers.recurrent import LSTM\n",
    "from keras.models import Model\n",
    "from keras.preprocessing.sequence import pad_sequences\n",
    "from keras.utils import np_utils"
   ]
  },
  {
   "cell_type": "markdown",
   "metadata": {},
   "source": [
    "#### Converting data into Vectorized form\n",
    "Xstrain[0] = [0,0,8,21,1,2,12,3,9,7,1,2,13,3]   - 14개<br>\n",
    "Xqtrain[0] = [4,5,8,6] - 4개<br>\n",
    "Ytrain[0] = [0,0,0,0,...0,1,0,0,0,]   - 22개의 one-hot"
   ]
  },
  {
   "cell_type": "code",
   "execution_count": 28,
   "metadata": {},
   "outputs": [
    {
     "name": "stdout",
     "output_type": "stream",
     "text": [
      "['John travelled to the hallway.', 'Mary journeyed to the bathroom.']\n",
      "[[8, 19, 1, 2, 15, 3], [10, 18, 1, 2, 12, 3]]\n",
      "[8, 19, 1, 2, 15, 3, 10, 18, 1, 2, 12, 3]\n"
     ]
    }
   ],
   "source": [
    "# list of list 연습\n",
    "for story, question, answer in zip(stories, questions, answers):\n",
    "    xs = [[word2indx[w.lower()] for w in nltk.word_tokenize(s)] for s in story]\n",
    "    print(story)\n",
    "    print(xs)\n",
    "    xs = list(itertools.chain.from_iterable(xs))\n",
    "    print(xs)\n",
    "    break"
   ]
  },
  {
   "cell_type": "code",
   "execution_count": 31,
   "metadata": {},
   "outputs": [
    {
     "name": "stdout",
     "output_type": "stream",
     "text": [
      "Train story (10000, 14) Train question (10000, 4) Train answer (10000, 22)\n",
      "Test story (1000, 14) Test question (1000, 4) Test answer (1000, 22)\n"
     ]
    }
   ],
   "source": [
    "def data_vectorization(data, word2indx, story_maxlen, question_maxlen):\n",
    "    Xs, Xq, Y = [], [], []\n",
    "    stories, questions, answers = data\n",
    "    for story, question, answer in zip(stories, questions, answers):\n",
    "        xs = [[word2indx[w.lower()] for w in nltk.word_tokenize(s)] for s in story]\n",
    "        xs = list(itertools.chain.from_iterable(xs))   # 2개 스토리를 하나로 합친다\n",
    "        xq = [word2indx[w.lower()] for w in nltk.word_tokenize(question)]\n",
    "        Xs.append(xs)\n",
    "        Xq.append(xq)\n",
    "        Y.append(word2indx[answer.lower()])\n",
    "        \n",
    "    return pad_sequences(Xs, maxlen=story_maxlen),\\\n",
    "           pad_sequences(Xq, maxlen=question_maxlen),\\\n",
    "           np_utils.to_categorical(Y, num_classes=len(word2indx))\n",
    "\n",
    "Xstrain, Xqtrain, Ytrain = data_vectorization(data_train, word2indx, story_maxlen, question_maxlen)\n",
    "Xstest, Xqtest, Ytest = data_vectorization(data_test, word2indx, story_maxlen, question_maxlen)\n",
    "\n",
    "print(\"Train story\",Xstrain.shape,\"Train question\", Xqtrain.shape,\"Train answer\", Ytrain.shape)\n",
    "print( \"Test story\",Xstest.shape, \"Test question\",Xqtest.shape, \"Test answer\",Ytest.shape)"
   ]
  },
  {
   "cell_type": "code",
   "execution_count": 32,
   "metadata": {},
   "outputs": [
    {
     "data": {
      "text/plain": [
       "array([ 0,  0, 10, 21,  1,  2, 12,  3,  8,  7,  1,  2, 15,  3])"
      ]
     },
     "execution_count": 32,
     "metadata": {},
     "output_type": "execute_result"
    }
   ],
   "source": [
    "Xstrain[0]"
   ]
  },
  {
   "cell_type": "markdown",
   "metadata": {},
   "source": [
    "#### Model Parameters"
   ]
  },
  {
   "cell_type": "code",
   "execution_count": 46,
   "metadata": {},
   "outputs": [
    {
     "name": "stdout",
     "output_type": "stream",
     "text": [
      "__________________________________________________________________________________________________\n",
      "Layer (type)                    Output Shape         Param #     Connected to                     \n",
      "==================================================================================================\n",
      "input_15 (InputLayer)           (None, 14)           0                                            \n",
      "__________________________________________________________________________________________________\n",
      "input_16 (InputLayer)           (None, 4)            0                                            \n",
      "__________________________________________________________________________________________________\n",
      "embedding_19 (Embedding)        (None, 14, 128)      2816        input_15[0][0]                   \n",
      "__________________________________________________________________________________________________\n",
      "embedding_20 (Embedding)        (None, 4, 128)       2816        input_16[0][0]                   \n",
      "__________________________________________________________________________________________________\n",
      "dropout_19 (Dropout)            (None, 14, 128)      0           embedding_19[0][0]               \n",
      "__________________________________________________________________________________________________\n",
      "dropout_20 (Dropout)            (None, 4, 128)       0           embedding_20[0][0]               \n",
      "__________________________________________________________________________________________________\n",
      "embedding_21 (Embedding)        (None, 14, 4)        88          input_15[0][0]                   \n",
      "__________________________________________________________________________________________________\n",
      "dot_8 (Dot)                     (None, 14, 4)        0           dropout_19[0][0]                 \n",
      "                                                                 dropout_20[0][0]                 \n",
      "__________________________________________________________________________________________________\n",
      "dropout_21 (Dropout)            (None, 14, 4)        0           embedding_21[0][0]               \n",
      "__________________________________________________________________________________________________\n",
      "add_1 (Add)                     (None, 14, 4)        0           dot_8[0][0]                      \n",
      "                                                                 dropout_21[0][0]                 \n",
      "__________________________________________________________________________________________________\n",
      "permute_1 (Permute)             (None, 4, 14)        0           add_1[0][0]                      \n",
      "__________________________________________________________________________________________________\n",
      "concatenate_1 (Concatenate)     (None, 4, 142)       0           permute_1[0][0]                  \n",
      "                                                                 dropout_20[0][0]                 \n",
      "__________________________________________________________________________________________________\n",
      "lstm_1 (LSTM)                   (None, 64)           52992       concatenate_1[0][0]              \n",
      "__________________________________________________________________________________________________\n",
      "dropout_22 (Dropout)            (None, 64)           0           lstm_1[0][0]                     \n",
      "__________________________________________________________________________________________________\n",
      "dense_1 (Dense)                 (None, 22)           1430        dropout_22[0][0]                 \n",
      "__________________________________________________________________________________________________\n",
      "activation_1 (Activation)       (None, 22)           0           dense_1[0][0]                    \n",
      "==================================================================================================\n",
      "Total params: 60,142\n",
      "Trainable params: 60,142\n",
      "Non-trainable params: 0\n",
      "__________________________________________________________________________________________________\n",
      "None\n"
     ]
    }
   ],
   "source": [
    "EMBEDDING_SIZE = 128\n",
    "LATENT_SIZE = 64\n",
    "BATCH_SIZE = 64\n",
    "NUM_EPOCHS = 40\n",
    "\n",
    "# Inputs\n",
    "story_input = Input(shape=(story_maxlen,))\n",
    "question_input = Input(shape=(question_maxlen,))\n",
    "\n",
    "# Story encoder embedding\n",
    "story_encoder = Embedding(input_dim=vocab_size, output_dim=EMBEDDING_SIZE,\n",
    "                         input_length=story_maxlen)(story_input)\n",
    "story_encoder = Dropout(rate = 0.2)(story_encoder)\n",
    "\n",
    "# Question encoder embedding\n",
    "question_encoder = Embedding(input_dim=vocab_size,output_dim=EMBEDDING_SIZE,\n",
    "                            input_length=question_maxlen)(question_input)\n",
    "question_encoder = Dropout(rate = 0.3)(question_encoder)\n",
    "\n",
    "# Match between story and question\n",
    "match = dot([story_encoder, question_encoder], axes=[2,2])\n",
    "\n",
    "# Encode story into vector space of question\n",
    "story_encoder_c = Embedding(input_dim=vocab_size,output_dim=question_maxlen,\n",
    "                           input_length=story_maxlen)(story_input)\n",
    "story_encoder_c = Dropout(rate = 0.3)(story_encoder_c)\n",
    "\n",
    "# Combine match and story vectors\n",
    "response = add([match, story_encoder_c])\n",
    "response = Permute((2, 1))(response)\n",
    "\n",
    "# Combine response and question vectors to answers space\n",
    "answer = concatenate([response, question_encoder], axis=-1)\n",
    "answer = LSTM(LATENT_SIZE)(answer)\n",
    "answer = Dropout(rate = 0.2)(answer)\n",
    "answer = Dense(vocab_size)(answer)\n",
    "output = Activation(\"softmax\")(answer)\n",
    "\n",
    "model = Model(inputs=[story_input, question_input], outputs=output)\n",
    "model.compile(optimizer=\"adam\", loss=\"categorical_crossentropy\",metrics=[\"accuracy\"])\n",
    "print (model.summary())"
   ]
  },
  {
   "cell_type": "markdown",
   "metadata": {},
   "source": [
    "#### Model Training"
   ]
  },
  {
   "cell_type": "code",
   "execution_count": 47,
   "metadata": {},
   "outputs": [
    {
     "name": "stdout",
     "output_type": "stream",
     "text": [
      "WARNING:tensorflow:From C:\\Users\\seong\\Anaconda3\\lib\\site-packages\\tensorflow\\python\\ops\\math_ops.py:3066: to_int32 (from tensorflow.python.ops.math_ops) is deprecated and will be removed in a future version.\n",
      "Instructions for updating:\n",
      "Use tf.cast instead.\n",
      "Train on 10000 samples, validate on 1000 samples\n",
      "Epoch 1/40\n",
      "10000/10000 [==============================] - 6s 643us/step - loss: 1.9876 - acc: 0.2044 - val_loss: 1.6515 - val_acc: 0.2970\n",
      "Epoch 2/40\n",
      "10000/10000 [==============================] - 2s 233us/step - loss: 1.6603 - acc: 0.2660 - val_loss: 1.6346 - val_acc: 0.2670\n",
      "Epoch 3/40\n",
      "10000/10000 [==============================] - 2s 230us/step - loss: 1.5537 - acc: 0.3859 - val_loss: 1.4456 - val_acc: 0.4930\n",
      "Epoch 4/40\n",
      "10000/10000 [==============================] - 2s 235us/step - loss: 1.4035 - acc: 0.5068 - val_loss: 1.3728 - val_acc: 0.5270\n",
      "Epoch 5/40\n",
      "10000/10000 [==============================] - 2s 232us/step - loss: 1.3445 - acc: 0.5204 - val_loss: 1.3469 - val_acc: 0.5270\n",
      "Epoch 6/40\n",
      "10000/10000 [==============================] - 2s 235us/step - loss: 1.3074 - acc: 0.5237 - val_loss: 1.3168 - val_acc: 0.5210\n",
      "Epoch 7/40\n",
      "10000/10000 [==============================] - 2s 232us/step - loss: 1.2766 - acc: 0.5227 - val_loss: 1.2906 - val_acc: 0.5280\n",
      "Epoch 8/40\n",
      "10000/10000 [==============================] - 2s 233us/step - loss: 1.2568 - acc: 0.5248 - val_loss: 1.2801 - val_acc: 0.5150\n",
      "Epoch 9/40\n",
      "10000/10000 [==============================] - 2s 235us/step - loss: 1.2366 - acc: 0.5309 - val_loss: 1.2457 - val_acc: 0.5350\n",
      "Epoch 10/40\n",
      "10000/10000 [==============================] - 2s 232us/step - loss: 1.0643 - acc: 0.6532 - val_loss: 0.8706 - val_acc: 0.7490\n",
      "Epoch 11/40\n",
      "10000/10000 [==============================] - 2s 237us/step - loss: 0.7140 - acc: 0.7803 - val_loss: 0.6324 - val_acc: 0.7580\n",
      "Epoch 12/40\n",
      "10000/10000 [==============================] - 2s 238us/step - loss: 0.5628 - acc: 0.7873 - val_loss: 0.5661 - val_acc: 0.7570\n",
      "Epoch 13/40\n",
      "10000/10000 [==============================] - 2s 232us/step - loss: 0.5169 - acc: 0.7892 - val_loss: 0.5484 - val_acc: 0.7550\n",
      "Epoch 14/40\n",
      "10000/10000 [==============================] - 2s 233us/step - loss: 0.4965 - acc: 0.7888 - val_loss: 0.5366 - val_acc: 0.7570\n",
      "Epoch 15/40\n",
      "10000/10000 [==============================] - 2s 233us/step - loss: 0.4849 - acc: 0.7915 - val_loss: 0.5360 - val_acc: 0.7530\n",
      "Epoch 16/40\n",
      "10000/10000 [==============================] - 2s 228us/step - loss: 0.4811 - acc: 0.7919 - val_loss: 0.5365 - val_acc: 0.7540\n",
      "Epoch 17/40\n",
      "10000/10000 [==============================] - 2s 232us/step - loss: 0.4784 - acc: 0.7932 - val_loss: 0.5348 - val_acc: 0.7500\n",
      "Epoch 18/40\n",
      "10000/10000 [==============================] - 2s 228us/step - loss: 0.4724 - acc: 0.7924 - val_loss: 0.5345 - val_acc: 0.7530\n",
      "Epoch 19/40\n",
      "10000/10000 [==============================] - 2s 228us/step - loss: 0.4688 - acc: 0.7933 - val_loss: 0.5281 - val_acc: 0.7620\n",
      "Epoch 20/40\n",
      "10000/10000 [==============================] - 2s 232us/step - loss: 0.4699 - acc: 0.7931 - val_loss: 0.5267 - val_acc: 0.7650\n",
      "Epoch 21/40\n",
      "10000/10000 [==============================] - 2s 228us/step - loss: 0.4683 - acc: 0.7946 - val_loss: 0.5331 - val_acc: 0.7550\n",
      "Epoch 22/40\n",
      "10000/10000 [==============================] - 2s 232us/step - loss: 0.4637 - acc: 0.7972 - val_loss: 0.5289 - val_acc: 0.7620\n",
      "Epoch 23/40\n",
      "10000/10000 [==============================] - 2s 228us/step - loss: 0.4601 - acc: 0.7992 - val_loss: 0.5326 - val_acc: 0.7540\n",
      "Epoch 24/40\n",
      "10000/10000 [==============================] - 2s 228us/step - loss: 0.4601 - acc: 0.8032 - val_loss: 0.5321 - val_acc: 0.7610\n",
      "Epoch 25/40\n",
      "10000/10000 [==============================] - 2s 229us/step - loss: 0.4599 - acc: 0.8005 - val_loss: 0.5344 - val_acc: 0.7610\n",
      "Epoch 26/40\n",
      "10000/10000 [==============================] - 2s 228us/step - loss: 0.4578 - acc: 0.8044 - val_loss: 0.5285 - val_acc: 0.7690\n",
      "Epoch 27/40\n",
      "10000/10000 [==============================] - 2s 228us/step - loss: 0.4570 - acc: 0.8038 - val_loss: 0.5291 - val_acc: 0.7650\n",
      "Epoch 28/40\n",
      "10000/10000 [==============================] - 2s 230us/step - loss: 0.4544 - acc: 0.8044 - val_loss: 0.5294 - val_acc: 0.7680\n",
      "Epoch 29/40\n",
      "10000/10000 [==============================] - 2s 227us/step - loss: 0.4517 - acc: 0.8074 - val_loss: 0.5326 - val_acc: 0.7700\n",
      "Epoch 30/40\n",
      "10000/10000 [==============================] - 2s 225us/step - loss: 0.4492 - acc: 0.8079 - val_loss: 0.5404 - val_acc: 0.7600\n",
      "Epoch 31/40\n",
      "10000/10000 [==============================] - 2s 229us/step - loss: 0.4483 - acc: 0.8073 - val_loss: 0.5328 - val_acc: 0.7660\n",
      "Epoch 32/40\n",
      "10000/10000 [==============================] - 2s 225us/step - loss: 0.4449 - acc: 0.8147 - val_loss: 0.5483 - val_acc: 0.7460\n",
      "Epoch 33/40\n",
      "10000/10000 [==============================] - 2s 225us/step - loss: 0.4467 - acc: 0.8130 - val_loss: 0.5400 - val_acc: 0.7490\n",
      "Epoch 34/40\n",
      "10000/10000 [==============================] - 2s 228us/step - loss: 0.4421 - acc: 0.8127 - val_loss: 0.5400 - val_acc: 0.7630\n",
      "Epoch 35/40\n",
      "10000/10000 [==============================] - 2s 223us/step - loss: 0.4398 - acc: 0.8139 - val_loss: 0.5415 - val_acc: 0.7700\n",
      "Epoch 36/40\n",
      "10000/10000 [==============================] - 2s 225us/step - loss: 0.4376 - acc: 0.8186 - val_loss: 0.5392 - val_acc: 0.7680\n",
      "Epoch 37/40\n",
      "10000/10000 [==============================] - 2s 222us/step - loss: 0.4374 - acc: 0.8178 - val_loss: 0.5394 - val_acc: 0.7730\n",
      "Epoch 38/40\n",
      "10000/10000 [==============================] - 2s 223us/step - loss: 0.4339 - acc: 0.8165 - val_loss: 0.5450 - val_acc: 0.7580\n",
      "Epoch 39/40\n",
      "10000/10000 [==============================] - 2s 226us/step - loss: 0.4310 - acc: 0.8207 - val_loss: 0.5533 - val_acc: 0.7640\n",
      "Epoch 40/40\n",
      "10000/10000 [==============================] - 2s 223us/step - loss: 0.4307 - acc: 0.8215 - val_loss: 0.5512 - val_acc: 0.7620\n"
     ]
    }
   ],
   "source": [
    "history = model.fit([Xstrain, Xqtrain], [Ytrain], batch_size=BATCH_SIZE, \n",
    "                    epochs=NUM_EPOCHS, validation_data=([Xstest, Xqtest], [Ytest]))"
   ]
  },
  {
   "cell_type": "markdown",
   "metadata": {},
   "source": [
    "#### plot accuracy and loss plot"
   ]
  },
  {
   "cell_type": "code",
   "execution_count": 48,
   "metadata": {},
   "outputs": [
    {
     "data": {
      "image/png": "[encoded data removed]",
      "text/plain": [
       "<Figure size 432x288 with 1 Axes>"
      ]
     },
     "metadata": {
      "needs_background": "light"
     },
     "output_type": "display_data"
    }
   ],
   "source": [
    "plt.title(\"Episodic Memory Q & A Accuracy\")\n",
    "plt.plot(history.history[\"acc\"], color=\"g\", label=\"train\")\n",
    "plt.plot(history.history[\"val_acc\"], color=\"r\", label=\"validation\")\n",
    "plt.legend(loc=\"best\")\n",
    "plt.show()"
   ]
  },
  {
   "cell_type": "markdown",
   "metadata": {},
   "source": [
    "#### get predictions of labels"
   ]
  },
  {
   "cell_type": "code",
   "execution_count": 55,
   "metadata": {},
   "outputs": [
    {
     "data": {
      "text/plain": [
       "0.762"
      ]
     },
     "execution_count": 55,
     "metadata": {},
     "output_type": "execute_result"
    }
   ],
   "source": [
    "from sklearn.metrics import accuracy_score\n",
    "ytest = np.argmax(Ytest, axis=1)\n",
    "Ytest_ = model.predict([Xstest, Xqtest])\n",
    "ytest_ = np.argmax(Ytest_, axis=1)\n",
    "accuracy_score(ytest, ytest_)"
   ]
  },
  {
   "cell_type": "markdown",
   "metadata": {},
   "source": [
    "#### Select Random questions and predict answers"
   ]
  },
  {
   "cell_type": "code",
   "execution_count": 56,
   "metadata": {},
   "outputs": [
    {
     "name": "stdout",
     "output_type": "stream",
     "text": [
      "sandra went to the garden . john went to the garden . where is mary ? garden bathroom\n",
      "mary moved to the garden . daniel went back to the office . where is mary ? garden garden\n",
      "mary journeyed to the bedroom . sandra travelled to the hallway . where is john ? bedroom bedroom\n",
      "mary went to the kitchen . john journeyed to the kitchen . where is mary ? kitchen kitchen\n",
      "john journeyed to the hallway . john journeyed to the bedroom . where is john ? bedroom bedroom\n",
      "daniel went back to the hallway . mary went to the hallway . where is mary ? hallway hallway\n",
      "john journeyed to the bedroom . john went back to the hallway . where is mary ? garden bathroom\n",
      "sandra moved to the garden . daniel went back to the bedroom . where is sandra ? garden garden\n",
      "mary went to the bathroom . sandra moved to the garden . where is sandra ? garden garden\n",
      "john went back to the bathroom . daniel moved to the hallway . where is daniel ? hallway hallway\n"
     ]
    }
   ],
   "source": [
    "NUM_DISPLAY = 10\n",
    "   \n",
    "for i in random.sample(range(Xstest.shape[0]),NUM_DISPLAY):\n",
    "    story = \" \".join([indx2word[x] for x in Xstest[i].tolist() if x != 0])\n",
    "    question = \" \".join([indx2word[x] for x in Xqtest[i].tolist()])\n",
    "    label = indx2word[ytest[i]]\n",
    "    prediction = indx2word[ytest_[i]]\n",
    "    print(story, question, label, prediction)"
   ]
  },
  {
   "cell_type": "code",
   "execution_count": 61,
   "metadata": {},
   "outputs": [
    {
     "data": {
      "text/plain": [
       "'john went back to the bathroom . daniel moved to the hallway .'"
      ]
     },
     "execution_count": 61,
     "metadata": {},
     "output_type": "execute_result"
    }
   ],
   "source": [
    "story"
   ]
  },
  {
   "cell_type": "code",
   "execution_count": 62,
   "metadata": {},
   "outputs": [
    {
     "data": {
      "text/plain": [
       "'where is daniel ?'"
      ]
     },
     "execution_count": 62,
     "metadata": {},
     "output_type": "execute_result"
    }
   ],
   "source": [
    "question"
   ]
  },
  {
   "cell_type": "code",
   "execution_count": null,
   "metadata": {},
   "outputs": [],
   "source": []
  }
 ],
 "metadata": {
  "kernelspec": {
   "display_name": "Python 3",
   "language": "python",
   "name": "python3"
  },
  "language_info": {
   "codemirror_mode": {
    "name": "ipython",
    "version": 3
   },
   "file_extension": ".py",
   "mimetype": "text/x-python",
   "name": "python",
   "nbconvert_exporter": "python",
   "pygments_lexer": "ipython3",
   "version": "3.7.3"
  }
 },
 "nbformat": 4,
 "nbformat_minor": 2
}
