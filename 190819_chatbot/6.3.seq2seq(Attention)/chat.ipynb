{
 "cells": [
  {
   "cell_type": "code",
   "execution_count": 1,
   "metadata": {},
   "outputs": [],
   "source": [
    "import tensorflow as tf\n",
    "import numpy as np\n",
    "import data\n",
    "import model as ml\n",
    "from configs import DEFINES"
   ]
  },
  {
   "cell_type": "code",
   "execution_count": 2,
   "metadata": {},
   "outputs": [],
   "source": [
    "tf.logging.set_verbosity(tf.logging.ERROR)\n",
    "word2idx,  idx2word, vocabulary_length = data.load_vocabulary()"
   ]
  },
  {
   "cell_type": "code",
   "execution_count": 3,
   "metadata": {},
   "outputs": [],
   "source": [
    "classifier = tf.estimator.Estimator(\n",
    "        model_fn=ml.model,\n",
    "        model_dir=DEFINES.check_point_path, \n",
    "        params={ \n",
    "            'hidden_size': DEFINES.hidden_size, \n",
    "            'layer_size': DEFINES.layer_size, \n",
    "            'learning_rate': DEFINES.learning_rate, \n",
    "            'vocabulary_length': vocabulary_length, \n",
    "            'embedding_size': DEFINES.embedding_size\n",
    "        })"
   ]
  },
  {
   "cell_type": "markdown",
   "metadata": {},
   "source": [
    "확률적 답변을 위해 다항분포 샘플링을 이용한다.<br>\n",
    "preds는 디코더의 출력인 softmax이고, beta는 softmax의 강도를 조절하는 변수이다.<br>\n",
    "beta가 작아질수록 동적으로 답변하고 (랜덤 성향이 큼), beta가 커질수록 정적으로 답변한다."
   ]
  },
  {
   "cell_type": "code",
   "execution_count": 4,
   "metadata": {},
   "outputs": [],
   "source": [
    "def pred_indices(preds, beta = 1.0):\n",
    "    preds = np.asarray(preds).astype('float64')\n",
    "    preds = np.log(preds) / beta\n",
    "    exp_preds = np.exp(preds)\n",
    "    preds = exp_preds/np.sum(exp_preds)\n",
    "    probs = np.random.multinomial(1, preds, 1)\n",
    "    return np.argmax(probs)"
   ]
  },
  {
   "cell_type": "markdown",
   "metadata": {},
   "source": [
    "채팅 시작"
   ]
  },
  {
   "cell_type": "code",
   "execution_count": 5,
   "metadata": {},
   "outputs": [
    {
     "name": "stdout",
     "output_type": "stream",
     "text": [
      "\n",
      "채팅 시작:\n",
      "Q: 안녕\n",
      "\n",
      "WARNING: The TensorFlow contrib module will not be included in TensorFlow 2.0.\n",
      "For more information, please see:\n",
      "  * https://github.com/tensorflow/community/blob/master/rfcs/20180907-contrib-sunset.md\n",
      "  * https://github.com/tensorflow/addons\n",
      "If you depend on functionality not listed there, please file an issue.\n",
      "\n",
      "A: 안녕하세요 드세요 \n",
      "Q: 사랑해\n",
      "A: 하늘 높나봅니다 \n",
      "Q: 가끔 궁금해\n",
      "A: 그 먼저 제가 \n",
      "Q: 오늘 너무 심심해\n",
      "A: 아파트가 예뻐요 \n",
      "Q: 오늘 심심해\n",
      "A: 친구들과 예뻐요 \n",
      "Q: 심심해\n",
      "A: 친구들과 예뻐요 \n",
      "Q: 배 고프다\n",
      "A: 서로 멋져요 예뻐요 \n",
      "Q: 자연어 너무 어려워\n",
      "A: 어느덧 잘 제가 \n",
      "Q: quit\n"
     ]
    }
   ],
   "source": [
    "print(\"\\n채팅 시작:\")\n",
    "for i in range(10):\n",
    "    question = input(\"Q: \")\n",
    "    if question == 'quit':\n",
    "        break\n",
    "    \n",
    "    predic_input_enc = data.data_processing([question], word2idx, DEFINES.enc_input)\n",
    "    predic_output_dec = data.data_processing([\"\"], word2idx, DEFINES.dec_input)\n",
    "    predic_target_dec = data.data_processing([\"\"], word2idx, DEFINES.dec_target)\n",
    "    \n",
    "    predictions = classifier.predict(input_fn=lambda:data.input_fn(\n",
    "                        predic_input_enc,\n",
    "                        predic_output_dec,\n",
    "                        predic_target_dec,\n",
    "                        1,\n",
    "                        1))\n",
    "    \n",
    "    # 답변 문장에 대한 softmax 확률을 받는다.\n",
    "    prob = np.array([v['indexs'] for v in predictions])\n",
    "    prob = np.squeeze(prob)\n",
    "    \n",
    "    # 확률적으로 답변 문장의 인덱스를 생성한다.\n",
    "    words_index = [pred_indices(p, beta = DEFINES.softmax_beta) for p in prob]\n",
    "\n",
    "    # 답변 문장의 인덱스를 실제 문장으로 변환한다.\n",
    "    answer = \"\"\n",
    "    for word in words_index:\n",
    "        if word !=0 and word !=2: # PAD = 0, END = 2\n",
    "            answer += idx2word[word]\n",
    "            answer += \" \"\n",
    "            \n",
    "    print(\"A:\", answer)"
   ]
  },
  {
   "cell_type": "code",
   "execution_count": null,
   "metadata": {},
   "outputs": [],
   "source": []
  }
 ],
 "metadata": {
  "kernelspec": {
   "display_name": "Python 3",
   "language": "python",
   "name": "python3"
  },
  "language_info": {
   "codemirror_mode": {
    "name": "ipython",
    "version": 3
   },
   "file_extension": ".py",
   "mimetype": "text/x-python",
   "name": "python",
   "nbconvert_exporter": "python",
   "pygments_lexer": "ipython3",
   "version": "3.7.3"
  }
 },
 "nbformat": 4,
 "nbformat_minor": 2
}
