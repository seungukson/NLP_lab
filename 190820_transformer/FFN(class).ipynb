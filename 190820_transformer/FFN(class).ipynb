{
 "cells": [
  {
   "cell_type": "markdown",
   "metadata": {},
   "source": [
    "import tensorflow as tf\n",
    "import numpy as np\n",
    "\n",
    "class MyModel(tf.keras.Model):\n",
    "\n",
    "    def __init__(self):\n",
    "        super(MyModel, self).__init__()\n",
    "        self.dense1 = tf.keras.layers.Dense(4, activation=tf.nn.relu)\n",
    "        self.dense2 = tf.keras.layers.Dense(1, activation=tf.nn.sigmoid)\n",
    "\n",
    "    def call(self, inputs):\n",
    "        x = self.dense1(inputs)\n",
    "        return self.dense2(x)\n",
    "\n",
    "trainX = np.random.random([100,5])\n",
    "trainY = np.random.choice([0,1], 100).reshape(100,1)\n",
    "testZ = np.random.random([1,5])\n",
    "\n",
    "\n",
    "\n",
    "tf.reset_default_graph()\n",
    "model = MyModel()\n",
    "\n",
    "x = tf.placeholder(dtype=tf.float32, shape=(None, 5))\n",
    "y = tf.placeholder(dtype=tf.float32, shape=(None, 1))\n",
    "\n",
    "output = model(x)\n",
    "loss = tf.reduce_mean(tf.keras.losses.binary_crossentropy(y, output))\n",
    "optimizer = tf.train.AdamOptimizer(0.01)\n",
    "train = optimizer.minimize(loss)\n",
    "\n",
    "sess = tf.Session()\n",
    "sess.run(tf.global_variables_initializer())\n",
    "\n",
    "for i in range(1000):\n",
    "    _, _loss = sess.run([train, loss], feed_dict={x: trainX, y:trainY})\n",
    "    if i % 100 == 0:\n",
    "        print(\"%d) loss = %.4f\" % (i, _loss))\n",
    "\n",
    "output = model(x)\n",
    "sess.run(output, feed_dict={x: testZ})\n",
    "\n"
   ]
  }
 ],
 "metadata": {
  "kernelspec": {
   "display_name": "Python 3",
   "language": "python",
   "name": "python3"
  },
  "language_info": {
   "codemirror_mode": {
    "name": "ipython",
    "version": 3
   },
   "file_extension": ".py",
   "mimetype": "text/x-python",
   "name": "python",
   "nbconvert_exporter": "python",
   "pygments_lexer": "ipython3",
   "version": "3.7.3"
  }
 },
 "nbformat": 4,
 "nbformat_minor": 2
}
